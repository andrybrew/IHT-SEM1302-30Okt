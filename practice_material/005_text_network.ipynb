{
  "nbformat": 4,
  "nbformat_minor": 0,
  "metadata": {
    "colab": {
      "provenance": [],
      "authorship_tag": "ABX9TyNBNxszv3cy0MDh9BcvrbCA",
      "include_colab_link": true
    },
    "kernelspec": {
      "name": "python3",
      "display_name": "Python 3"
    },
    "language_info": {
      "name": "python"
    }
  },
  "cells": [
    {
      "cell_type": "markdown",
      "metadata": {
        "id": "view-in-github",
        "colab_type": "text"
      },
      "source": [
        "<a href=\"https://colab.research.google.com/github/andrybrew/IHT-SEM1302-30Okt/blob/main/practice_material/005_text_network.ipynb\" target=\"_parent\"><img src=\"https://colab.research.google.com/assets/colab-badge.svg\" alt=\"Open In Colab\"/></a>"
      ]
    },
    {
      "cell_type": "markdown",
      "source": [
        "#**Text Network Analysis**"
      ],
      "metadata": {
        "id": "A9qF6qRif37r"
      }
    },
    {
      "cell_type": "markdown",
      "source": [
        "##**Importing required libraries**"
      ],
      "metadata": {
        "id": "Af_ZEEXvYqjM"
      }
    },
    {
      "cell_type": "code",
      "source": [
        "import pandas as pd\n",
        "import re\n",
        "import nltk\n",
        "import networkx as nx\n",
        "import matplotlib.pyplot as plt\n",
        "\n",
        "from nltk.corpus import stopwords\n",
        "\n",
        "nltk.download('stopwords')"
      ],
      "metadata": {
        "id": "6wZWQoXCTgZ4"
      },
      "execution_count": null,
      "outputs": []
    },
    {
      "cell_type": "markdown",
      "source": [
        "##**Importing Dataset**"
      ],
      "metadata": {
        "id": "OWmOaOF4WDR0"
      }
    },
    {
      "cell_type": "code",
      "source": [
        "# Fetching the dataset from GitHub\n",
        "data_url = \"https://raw.githubusercontent.com/andrybrew/IHT-SEM1302-30Okt/main/data/001_suku-bunga.csv\"\n",
        "\n",
        "# Using pandas read_csv function to load the data from the URL directly into a DataFrame\n",
        "df_tweet = pd.read_csv(data_url)"
      ],
      "metadata": {
        "id": "jZpa9wOZWMdp"
      },
      "execution_count": null,
      "outputs": []
    },
    {
      "cell_type": "markdown",
      "metadata": {
        "id": "ICZUUznNTKnD"
      },
      "source": [
        "## **Text Network Analysis Process**"
      ]
    },
    {
      "cell_type": "markdown",
      "source": [
        "###Dataset Preprocessing"
      ],
      "metadata": {
        "id": "yloSCSEofVrt"
      }
    },
    {
      "cell_type": "code",
      "source": [
        "# Convert to lowercase\n",
        "df_tweet['text'] = df_tweet['text'].str.lower()\n",
        "\n",
        "# Remove URL\n",
        "df_tweet['text'] = df_tweet['text'].apply(lambda x: re.sub(r'https?://\\S+|www\\.\\S+|\\S+\\.\\S+/\\S+', '', x))\n",
        "\n",
        "# Remove mentions\n",
        "df_tweet['text'] = df_tweet['text'].str.replace(r'@\\S+', '', regex=True)\n",
        "\n",
        "# Remove non-word characters except for spaces and %\n",
        "df_tweet['text'] = df_tweet['text'].str.replace(r'[^\\w\\s%]', '', regex=True)\n",
        "\n",
        "# Trim leading and trailing spaces and replace multiple spaces with a single space\n",
        "df_tweet['text'] = df_tweet['text'].str.strip().str.replace(r'\\s+', ' ', regex=True)\n",
        "\n",
        "# Remove stopwords including custom stop words\n",
        "stop_words = stopwords.words('indonesian')\n",
        "custom_stop_words = ['dgn', 'sdh', 'yg', 'the', 'gak', 'ga', 'a', 'krn', 'thd', 'nya', 'ya', 'n', 'kalo', 'aja', 'deh', 'tuh', 'udah', 'dll.', '2', '25', '20', '1.', '2.', '7.', 'u', '5', 'gua', '•']\n",
        "stop_words_pattern = r'\\b(?:{})\\b'.format('|'.join(stop_words + custom_stop_words))\n",
        "df_tweet['text'] = df_tweet['text'].str.replace(stop_words_pattern, '', regex=True)\n",
        "\n",
        "# Copy the processed text to a new DataFrame\n",
        "df_tna = pd.DataFrame(df_tweet['text'], columns=['text'])\n",
        "df_tna"
      ],
      "metadata": {
        "id": "3xphesL1wtpo"
      },
      "execution_count": null,
      "outputs": []
    },
    {
      "cell_type": "markdown",
      "source": [
        "###Building the Network Graph"
      ],
      "metadata": {
        "id": "Dk-irYOGfwWX"
      }
    },
    {
      "cell_type": "code",
      "execution_count": null,
      "metadata": {
        "id": "pWRGDkYcAPrE"
      },
      "outputs": [],
      "source": [
        "# Create empty graph\n",
        "G = nx.Graph()"
      ]
    },
    {
      "cell_type": "code",
      "execution_count": null,
      "metadata": {
        "id": "-Ig0VgQpAc1A"
      },
      "outputs": [],
      "source": [
        "# For each row in dataframe\n",
        "for index, row in df_tna.iterrows():\n",
        "\n",
        "    # Split tittle into words\n",
        "    words = row['text'].split(' ')\n",
        "\n",
        "    # Add relationships between words\n",
        "    for w1 in words:\n",
        "        for w2 in words:\n",
        "            if w1 != w2:\n",
        "                G.add_edge(w1,w2)"
      ]
    },
    {
      "cell_type": "markdown",
      "source": [
        "##Visualizing the Network\n"
      ],
      "metadata": {
        "id": "P84Fl4Epfzbx"
      }
    },
    {
      "cell_type": "code",
      "execution_count": null,
      "metadata": {
        "id": "BJL_xlQbAjDc"
      },
      "outputs": [],
      "source": [
        "# Visualize the graph\n",
        "nx.draw(G, font_size = 7, with_labels = True)"
      ]
    },
    {
      "cell_type": "code",
      "source": [
        "# Save the network's edgelist to a CSV\n",
        "nx.write_edgelist(G, \"text_network_edgelist.csv\", delimiter=\",\", data=False)"
      ],
      "metadata": {
        "id": "LoKkkQeLj2k1"
      },
      "execution_count": null,
      "outputs": []
    }
  ]
}