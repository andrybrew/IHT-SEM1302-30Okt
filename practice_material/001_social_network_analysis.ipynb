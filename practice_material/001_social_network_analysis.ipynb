{
  "nbformat": 4,
  "nbformat_minor": 0,
  "metadata": {
    "colab": {
      "provenance": [],
      "authorship_tag": "ABX9TyONmVBerFtDehIiNBBACBes",
      "include_colab_link": true
    },
    "kernelspec": {
      "name": "python3",
      "display_name": "Python 3"
    },
    "language_info": {
      "name": "python"
    }
  },
  "cells": [
    {
      "cell_type": "markdown",
      "metadata": {
        "id": "view-in-github",
        "colab_type": "text"
      },
      "source": [
        "<a href=\"https://colab.research.google.com/github/andrybrew/IHT-SEM1302-30Okt/blob/main/practice_material/001_social_network_analysis.ipynb\" target=\"_parent\"><img src=\"https://colab.research.google.com/assets/colab-badge.svg\" alt=\"Open In Colab\"/></a>"
      ]
    },
    {
      "cell_type": "markdown",
      "source": [
        "#**Social Network Analysis**"
      ],
      "metadata": {
        "id": "VIe2zo0qQaPC"
      }
    },
    {
      "cell_type": "markdown",
      "source": [
        "##**Importing required libraries**"
      ],
      "metadata": {
        "id": "NVbjT4DLr1gE"
      }
    },
    {
      "cell_type": "code",
      "source": [
        "!pip install 'networkx'"
      ],
      "metadata": {
        "id": "_qR8YIW7Ja0a"
      },
      "execution_count": null,
      "outputs": []
    },
    {
      "cell_type": "code",
      "source": [
        "import pandas as pd\n",
        "import networkx as nx\n",
        "from community import community_louvain\n",
        "import matplotlib.pyplot as plt\n",
        "import re"
      ],
      "metadata": {
        "id": "FStEr7b4WTJf"
      },
      "execution_count": null,
      "outputs": []
    },
    {
      "cell_type": "markdown",
      "source": [
        "##**Importing Dataset**"
      ],
      "metadata": {
        "id": "OWmOaOF4WDR0"
      }
    },
    {
      "cell_type": "code",
      "source": [
        "# Fetching the dataset from GitHub\n",
        "data_url = \"https://raw.githubusercontent.com/andrybrew/IHT-SEM1302-30Okt/main/data/001_suku-bunga.csv\"\n",
        "\n",
        "# Using pandas read_csv function to load the data from the URL directly into a DataFrame\n",
        "df_tweet = pd.read_csv(data_url)\n",
        "\n",
        "# Show selected columns from the DataFrame\n",
        "df_tweet[['text', 'username', 'in_reply_to']]"
      ],
      "metadata": {
        "id": "jZpa9wOZWMdp"
      },
      "execution_count": null,
      "outputs": []
    },
    {
      "cell_type": "markdown",
      "metadata": {
        "id": "sujPPFBpNnJi"
      },
      "source": [
        "## **Building the Network Graph**"
      ]
    },
    {
      "cell_type": "code",
      "execution_count": null,
      "metadata": {
        "id": "kJbNZSfbTJ8t"
      },
      "outputs": [],
      "source": [
        "# Create edgelist\n",
        "edgelist = df_tweet[['username', 'in_reply_to']].rename(columns={'username':'source', 'in_reply_to':'target'}).dropna()\n",
        "\n",
        "# Remove rows if the target is '[]' or an empty string ''\n",
        "edgelist = edgelist[~edgelist['target'].isin(['[]', ''])]\n",
        "\n",
        "# Function to extract all usernames from a string\n",
        "def extract_mentions(s):\n",
        "    return re.findall(r'@[\\w_]+', s)\n",
        "\n",
        "# Apply this function to the 'target' column to obtain a list of usernames\n",
        "edgelist['target'] = edgelist['target'].apply(extract_mentions)\n",
        "\n",
        "# Separate list entries into individual rows\n",
        "edgelist = edgelist.explode('target')\n",
        "\n",
        "# Remove self-loops\n",
        "edgelist = edgelist[edgelist['source'] != edgelist['target']]\n",
        "\n",
        "# Display the edgelist\n",
        "edgelist"
      ]
    },
    {
      "cell_type": "code",
      "source": [
        "# Write edgelist to a CSV file\n",
        "edgelist.to_csv('edgelist.csv', index=False)"
      ],
      "metadata": {
        "id": "DFA3_tXQWuhC"
      },
      "execution_count": null,
      "outputs": []
    },
    {
      "cell_type": "code",
      "execution_count": null,
      "metadata": {
        "id": "vlmFXsgZUJ27"
      },
      "outputs": [],
      "source": [
        "# Create a graph from the edgelist\n",
        "G = nx.from_pandas_edgelist(edgelist, source='source', target='target')\n",
        "\n",
        "# Visualize the graph\n",
        "nx.draw(G, pos = nx.kamada_kawai_layout(G), font_size = 7, with_labels = True)"
      ]
    },
    {
      "cell_type": "markdown",
      "metadata": {
        "id": "aLiCOi7ZQ3vy"
      },
      "source": [
        "### **Network Analysis: Core Properties**"
      ]
    },
    {
      "cell_type": "code",
      "execution_count": null,
      "metadata": {
        "id": "FGpnu1s6WlUf"
      },
      "outputs": [],
      "source": [
        "# Calculate number of nodes\n",
        "num_nodes = G.number_of_nodes()\n",
        "\n",
        "# Calculate number of edges\n",
        "num_edges = G.number_of_edges()\n",
        "\n",
        "# Calculate density\n",
        "density = nx.density(G)\n",
        "\n",
        "# Find the Largest Connected Component (LCC)\n",
        "largest_cc = max(nx.connected_components(G), key=len)\n",
        "subgraph = G.subgraph(largest_cc)\n",
        "\n",
        "# Calculate metrics for the LCC\n",
        "lcc_avg_path_length = nx.average_shortest_path_length(subgraph)\n",
        "lcc_diameter = nx.diameter(subgraph)\n",
        "\n",
        "# Create a dataframe based on the results\n",
        "network_properties = pd.DataFrame(data= {'num_nodes':[num_nodes],\n",
        "                                         'num_edges':[num_edges],\n",
        "                                         'average_path_length': [lcc_avg_path_length],\n",
        "                                         'diameter': [lcc_diameter],\n",
        "                                         'density':[density]})\n",
        "# Show network properties\n",
        "network_properties"
      ]
    },
    {
      "cell_type": "markdown",
      "source": [
        "### **Centrality Measures: Identifying Influencers**"
      ],
      "metadata": {
        "id": "57xl1u4MtFRG"
      }
    },
    {
      "cell_type": "code",
      "execution_count": null,
      "metadata": {
        "id": "1SpQLIllIdB0"
      },
      "outputs": [],
      "source": [
        "# Calculate degree centrality\n",
        "degree_centrality = nx.degree_centrality(G)\n",
        "\n",
        "# Calculate betweeness centrality\n",
        "betweenness_centrality = nx.betweenness_centrality(G)\n",
        "\n",
        "# Calculate closeness centrality\n",
        "closeness_centrality = nx.closeness_centrality(G)\n",
        "\n",
        "# Calculate eigenvector centrality\n",
        "eigenvector_centrality = nx.closeness_centrality(G)\n",
        "\n",
        "# Create a dataframe based on the results\n",
        "centralities = pd.DataFrame([degree_centrality, betweenness_centrality,\n",
        "                             closeness_centrality, eigenvector_centrality]).T\n",
        "centralities.columns = ['degree_centrality', 'betweenness_centrality',\n",
        "                        'closeness_centrality', 'eigenvector_centrality']\n",
        "\n",
        "# Show centralities\n",
        "centralities"
      ]
    },
    {
      "cell_type": "markdown",
      "source": [
        "### **Community Detection: Analyzing Modularity**"
      ],
      "metadata": {
        "id": "EeaCYbp51LIq"
      }
    },
    {
      "cell_type": "code",
      "source": [
        "# Calculate the modularity and community detection\n",
        "partition = community_louvain.best_partition(G)\n",
        "\n",
        "# Retrieve the community number for each node in the graph\n",
        "values = [partition.get(node) for node in G.nodes()]\n",
        "\n",
        "# Display the dictionary containing the node-community mappings\n",
        "partition"
      ],
      "metadata": {
        "id": "ityaRzHc1ZyB"
      },
      "execution_count": null,
      "outputs": []
    },
    {
      "cell_type": "markdown",
      "source": [
        "###**Advanced Visualization**"
      ],
      "metadata": {
        "id": "13aaiKiZucxJ"
      }
    },
    {
      "cell_type": "code",
      "source": [
        "# Visualize the graph\n",
        "nx.draw_networkx(G, pos = nx.kamada_kawai_layout(G), cmap = plt.get_cmap('jet'), node_color = values, font_size = 7, with_labels= True)"
      ],
      "metadata": {
        "id": "TcnNFq091ZaR"
      },
      "execution_count": null,
      "outputs": []
    },
    {
      "cell_type": "code",
      "source": [
        "# Convert degree centrality to a list of sizes for nodes\n",
        "node_sizes = [degree_centrality[node] * 1000 for node in G.nodes()]\n",
        "\n",
        "# Convert degree centrality to a list of sizes for labels\n",
        "label_sizes = {node: degree_centrality[node] * 150 for node in G.nodes()}\n",
        "\n",
        "# Draw the network with node sizes based on degree centrality\n",
        "pos = nx.fruchterman_reingold_layout(G)\n",
        "nx.draw(G, pos, with_labels=False, node_size=node_sizes, cmap = plt.get_cmap('jet'), node_color = values)\n",
        "\n",
        "# Add labels with sizes based on degree centrality\n",
        "for node, (x, y) in pos.items():\n",
        "    plt.text(x, y, node, fontsize=label_sizes[node])\n",
        "\n",
        "plt.figure(figsize=(30, 30))\n",
        "plt.show()"
      ],
      "metadata": {
        "id": "Nvt1knOWnwpz"
      },
      "execution_count": null,
      "outputs": []
    }
  ]
}