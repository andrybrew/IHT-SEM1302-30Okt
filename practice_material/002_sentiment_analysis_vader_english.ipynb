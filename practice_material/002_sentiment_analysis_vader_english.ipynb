{
  "nbformat": 4,
  "nbformat_minor": 0,
  "metadata": {
    "colab": {
      "provenance": [],
      "authorship_tag": "ABX9TyNU5oFLPUANDjRB4p177Rq1",
      "include_colab_link": true
    },
    "kernelspec": {
      "name": "python3",
      "display_name": "Python 3"
    },
    "language_info": {
      "name": "python"
    }
  },
  "cells": [
    {
      "cell_type": "markdown",
      "metadata": {
        "id": "view-in-github",
        "colab_type": "text"
      },
      "source": [
        "<a href=\"https://colab.research.google.com/github/andrybrew/IHT-SEM1302-30Okt/blob/main/practice_material/002_sentiment_analysis_vader_english.ipynb\" target=\"_parent\"><img src=\"https://colab.research.google.com/assets/colab-badge.svg\" alt=\"Open In Colab\"/></a>"
      ]
    },
    {
      "cell_type": "markdown",
      "source": [
        "# **Sentiment Analysis: VADER (English)**"
      ],
      "metadata": {
        "id": "3j4YSMlPFUyv"
      }
    },
    {
      "cell_type": "markdown",
      "source": [
        "##**Importing required libraries**"
      ],
      "metadata": {
        "id": "Af_ZEEXvYqjM"
      }
    },
    {
      "cell_type": "code",
      "source": [
        "# Import the necessary libraries\n",
        "import pandas as pd\n",
        "import nltk\n",
        "from nltk.sentiment.vader import SentimentIntensityAnalyzer\n",
        "import seaborn as sns"
      ],
      "metadata": {
        "id": "6wZWQoXCTgZ4"
      },
      "execution_count": null,
      "outputs": []
    },
    {
      "cell_type": "markdown",
      "source": [
        "##**Importing Dataset**"
      ],
      "metadata": {
        "id": "OWmOaOF4WDR0"
      }
    },
    {
      "cell_type": "code",
      "source": [
        "# Fetching the dataset from GitHub\n",
        "data_url = \"https://raw.githubusercontent.com/andrybrew/IHT-SEM1302-30Okt/main/data/002_cbdc.csv\"\n",
        "\n",
        "# Using pandas read_csv function to load the data from the URL directly into a DataFrame\n",
        "df_comment = pd.read_csv(data_url)\n",
        "\n",
        "# Display the dataframe to check the imported data\n",
        "df_comment"
      ],
      "metadata": {
        "id": "jZpa9wOZWMdp"
      },
      "execution_count": null,
      "outputs": []
    },
    {
      "cell_type": "markdown",
      "source": [
        "##**Data Preprocessing for Sentiment Analysis**"
      ],
      "metadata": {
        "id": "iK2boFHq9f_u"
      }
    },
    {
      "cell_type": "code",
      "source": [
        "# Remove mentions entirely\n",
        "df_comment['comment'] = df_comment['comment'].str.replace('@\\S+', '', regex=True)\n",
        "\n",
        "# Remove non-word characters except for spaces\n",
        "df_comment['comment'] = df_comment['comment'].str.replace('[^\\w\\s]', '', regex=True)\n",
        "\n",
        "# Convert to lowercase\n",
        "df_comment['comment'] = df_comment['comment'].str.lower()\n",
        "\n",
        "# Trim leading and trailing spaces and replace multiple spaces with a single space\n",
        "df_comment['comment'] = df_comment['comment'].str.strip().str.replace('\\s+', ' ', regex=True)\n",
        "\n",
        "# Show preprocessed 'comment' column of df_comment\n",
        "df_comment[['comment']]"
      ],
      "metadata": {
        "id": "rKx4M4IIn_oy"
      },
      "execution_count": null,
      "outputs": []
    },
    {
      "cell_type": "markdown",
      "metadata": {
        "id": "39kZ734CUScF"
      },
      "source": [
        "## **Performing Sentiment Analysis**\n",
        "\n"
      ]
    },
    {
      "cell_type": "code",
      "execution_count": null,
      "metadata": {
        "id": "KClHOPIJSXTh"
      },
      "outputs": [],
      "source": [
        "# Download the corpus\n",
        "nltk.download('vader_lexicon')"
      ]
    },
    {
      "cell_type": "code",
      "execution_count": null,
      "metadata": {
        "id": "phg-V_wOO80r"
      },
      "outputs": [],
      "source": [
        "# Create a vader sentiment analyzer\n",
        "sia = SentimentIntensityAnalyzer()\n",
        "\n",
        "# Create a list of sentences\n",
        "sentences = df_comment['comment']\n",
        "\n",
        "# Calculate the compound sentiment score of each sentence\n",
        "scores = [sia.polarity_scores(sentence)['compound'] for sentence in sentences]"
      ]
    },
    {
      "cell_type": "code",
      "execution_count": null,
      "metadata": {
        "id": "WkkHJxXEShX5"
      },
      "outputs": [],
      "source": [
        "# Visualize the compound sentiment using seaborn\n",
        "sns.distplot(x=scores)"
      ]
    },
    {
      "cell_type": "code",
      "source": [
        "# Store the sentiment scores in a new column 'sentiment_score' in df_comment\n",
        "df_comment['sentiment_score'] = scores"
      ],
      "metadata": {
        "id": "XRSWhnaendAn"
      },
      "execution_count": null,
      "outputs": []
    },
    {
      "cell_type": "code",
      "source": [
        "# Define a function to categorize sentiment based on the score\n",
        "def categorize_sentiment(score):\n",
        "    if score > 0.05:\n",
        "        return 'Positive'\n",
        "    elif score < -0.05:\n",
        "        return 'Negative'\n",
        "    else:\n",
        "        return 'Neutral'\n",
        "\n",
        "# Applying the function to the sentiment_score column\n",
        "df_comment['sentiment'] = df_comment['sentiment_score'].apply(categorize_sentiment)"
      ],
      "metadata": {
        "id": "GHVT3ska-Dhy"
      },
      "execution_count": null,
      "outputs": []
    },
    {
      "cell_type": "code",
      "source": [
        "# Show the result\n",
        "df_comment[['comment', 'sentiment_score', 'sentiment']]"
      ],
      "metadata": {
        "id": "Go9kN9G3ovuK"
      },
      "execution_count": null,
      "outputs": []
    },
    {
      "cell_type": "code",
      "source": [
        "# Visualise the sentiment distribution\n",
        "sns.countplot(x ='sentiment', data = df_comment)"
      ],
      "metadata": {
        "id": "XpJ8BO52ER82"
      },
      "execution_count": null,
      "outputs": []
    }
  ]
}