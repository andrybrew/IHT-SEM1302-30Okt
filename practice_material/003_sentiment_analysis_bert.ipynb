{
  "nbformat": 4,
  "nbformat_minor": 0,
  "metadata": {
    "colab": {
      "provenance": [],
      "authorship_tag": "ABX9TyPp84p8vjImYk4tgSmvIm0F",
      "include_colab_link": true
    },
    "kernelspec": {
      "name": "python3",
      "display_name": "Python 3"
    },
    "language_info": {
      "name": "python"
    }
  },
  "cells": [
    {
      "cell_type": "markdown",
      "metadata": {
        "id": "view-in-github",
        "colab_type": "text"
      },
      "source": [
        "<a href=\"https://colab.research.google.com/github/andrybrew/IHT-SEM1302-30Okt/blob/main/practice_material/003_sentiment_analysis_bert.ipynb\" target=\"_parent\"><img src=\"https://colab.research.google.com/assets/colab-badge.svg\" alt=\"Open In Colab\"/></a>"
      ]
    },
    {
      "cell_type": "markdown",
      "metadata": {
        "id": "iDUZzG0xQKaI"
      },
      "source": [
        "# **Sentiment Analysis with IndoBERT**"
      ]
    },
    {
      "cell_type": "markdown",
      "source": [
        "##**Importing required libraries**"
      ],
      "metadata": {
        "id": "vNsHF1m8SGWo"
      }
    },
    {
      "cell_type": "code",
      "execution_count": null,
      "metadata": {
        "id": "xw1mxj2JQWzq"
      },
      "outputs": [],
      "source": [
        "# Install Huggingface Transformers\n",
        "! pip install huggingface transformers --quiet"
      ]
    },
    {
      "cell_type": "code",
      "source": [
        "import pandas as pd\n",
        "import seaborn as sns\n",
        "from transformers import pipeline, AutoTokenizer, AutoModelForSequenceClassification"
      ],
      "metadata": {
        "id": "6wZWQoXCTgZ4"
      },
      "execution_count": null,
      "outputs": []
    },
    {
      "cell_type": "markdown",
      "source": [
        "##**Importing Dataset**"
      ],
      "metadata": {
        "id": "OWmOaOF4WDR0"
      }
    },
    {
      "cell_type": "code",
      "source": [
        "# Fetching the dataset from GitHub\n",
        "data_url = \"https://raw.githubusercontent.com/andrybrew/IHT-SEM1302-30Okt/main/data/001_suku-bunga.csv\"\n",
        "\n",
        "# Using pandas read_csv function to load the data from the URL directly into a DataFrame\n",
        "df_tweet = pd.read_csv(data_url)"
      ],
      "metadata": {
        "id": "jZpa9wOZWMdp"
      },
      "execution_count": null,
      "outputs": []
    },
    {
      "cell_type": "markdown",
      "source": [
        "##**Loading the IndoBERT Model**"
      ],
      "metadata": {
        "id": "-qoAExhiSqfF"
      }
    },
    {
      "cell_type": "code",
      "source": [
        "# Download Pretrained Model\n",
        "pretrained = \"mdhugol/indonesia-bert-sentiment-classification\""
      ],
      "metadata": {
        "id": "Fv3lvARZagIP"
      },
      "execution_count": null,
      "outputs": []
    },
    {
      "cell_type": "code",
      "execution_count": null,
      "metadata": {
        "id": "GBQjyYIwQLTl"
      },
      "outputs": [],
      "source": [
        "# Set Model and Tokenizer\n",
        "model = AutoModelForSequenceClassification.from_pretrained(pretrained)\n",
        "tokenizer = AutoTokenizer.from_pretrained(pretrained)\n",
        "\n",
        "# Create sentiment classifier using huggingface pipeline\n",
        "sentiment_analysis = pipeline(\"sentiment-analysis\", model=model, tokenizer=tokenizer)"
      ]
    },
    {
      "cell_type": "markdown",
      "source": [
        "##**Performing Sentiment Analysis**"
      ],
      "metadata": {
        "id": "MsHKzXMlWP2G"
      }
    },
    {
      "cell_type": "code",
      "execution_count": null,
      "metadata": {
        "id": "PCq8skXQQxli"
      },
      "outputs": [],
      "source": [
        "def get_sentiment(text):\n",
        "    # Tokenize text and truncate to ensure it doesn't exceed the maximum limit\n",
        "    tokens = tokenizer.tokenize(text)\n",
        "    tokens = tokens[:min(len(tokens), 512 - 2)]  # 2 tokens for [CLS] and [SEP]\n",
        "\n",
        "    # Convert tokens back to string\n",
        "    truncated_text = tokenizer.convert_tokens_to_string(tokens)\n",
        "\n",
        "    # Get sentiment\n",
        "    output = sentiment_analysis(truncated_text)[0]\n",
        "    label = label_index[output['label']]\n",
        "    score = output['score']\n",
        "    return label, score"
      ]
    },
    {
      "cell_type": "code",
      "source": [
        "# Set Label\n",
        "label_index = {'LABEL_0': 'positive', 'LABEL_1': 'neutral', 'LABEL_2': 'negative'}"
      ],
      "metadata": {
        "id": "Pa7B1aU1dx9d"
      },
      "execution_count": null,
      "outputs": []
    },
    {
      "cell_type": "code",
      "source": [
        "# Test with one sentence\n",
        "text = \"Kebijakannya kacau balau\"\n",
        "sentiment, score = get_sentiment(text)\n",
        "print(f'The sentiment is: {sentiment} with a score of: {score}')"
      ],
      "metadata": {
        "id": "z7NGB8Q4bmeG"
      },
      "execution_count": null,
      "outputs": []
    },
    {
      "cell_type": "markdown",
      "source": [
        "##**Applying Sentiment Analysis to Dataframe**"
      ],
      "metadata": {
        "id": "xmNiV1_KWbAE"
      }
    },
    {
      "cell_type": "code",
      "source": [
        "# Get sentiment label for each row in dataframe\n",
        "df_tweet[['sentiment', 'score']] = df_tweet['text'].apply(lambda x: pd.Series(get_sentiment(x)))"
      ],
      "metadata": {
        "id": "TBbZjOs9bk4z"
      },
      "execution_count": null,
      "outputs": []
    },
    {
      "cell_type": "code",
      "execution_count": null,
      "metadata": {
        "id": "pnhAo-kYXVD2"
      },
      "outputs": [],
      "source": [
        "# Show Tweet with sentiment\n",
        "df_tweet[['text', 'sentiment', 'score']]"
      ]
    },
    {
      "cell_type": "code",
      "execution_count": null,
      "metadata": {
        "id": "aXtoH2KTVM0H"
      },
      "outputs": [],
      "source": [
        "# Visualise the sentiment distribution\n",
        "sns.countplot(x ='sentiment', data = df_tweet)"
      ]
    }
  ]
}