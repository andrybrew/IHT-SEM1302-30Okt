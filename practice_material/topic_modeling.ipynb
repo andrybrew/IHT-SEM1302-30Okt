{
  "nbformat": 4,
  "nbformat_minor": 0,
  "metadata": {
    "colab": {
      "provenance": [],
      "authorship_tag": "ABX9TyOlMD8yfHHgFqJcJvHRmZvL",
      "include_colab_link": true
    },
    "kernelspec": {
      "name": "python3",
      "display_name": "Python 3"
    },
    "language_info": {
      "name": "python"
    }
  },
  "cells": [
    {
      "cell_type": "markdown",
      "metadata": {
        "id": "view-in-github",
        "colab_type": "text"
      },
      "source": [
        "<a href=\"https://colab.research.google.com/github/andrybrew/IHT-SEM1302-30Okt/blob/main/practice_material/topic_modeling.ipynb\" target=\"_parent\"><img src=\"https://colab.research.google.com/assets/colab-badge.svg\" alt=\"Open In Colab\"/></a>"
      ]
    },
    {
      "cell_type": "markdown",
      "source": [
        "#**Topic Modeling**"
      ],
      "metadata": {
        "id": "UByqXBpxf551"
      }
    },
    {
      "cell_type": "markdown",
      "source": [
        "##**Importing required libraries**"
      ],
      "metadata": {
        "id": "Af_ZEEXvYqjM"
      }
    },
    {
      "cell_type": "code",
      "execution_count": 1,
      "metadata": {
        "id": "DbsoS6qw9RVp",
        "colab": {
          "base_uri": "https://localhost:8080/"
        },
        "outputId": "d2f7195d-fc4f-4c4b-def7-2bc6acf6552c"
      },
      "outputs": [
        {
          "output_type": "stream",
          "name": "stdout",
          "text": [
            "Collecting pyLDAvis\n",
            "  Downloading pyLDAvis-3.4.1-py3-none-any.whl (2.6 MB)\n",
            "\u001b[2K     \u001b[90m━━━━━━━━━━━━━━━━━━━━━━━━━━━━━━━━━━━━━━━━\u001b[0m \u001b[32m2.6/2.6 MB\u001b[0m \u001b[31m11.9 MB/s\u001b[0m eta \u001b[36m0:00:00\u001b[0m\n",
            "\u001b[?25hInstalling collected packages: pyLDAvis\n",
            "Successfully installed pyLDAvis-3.4.1\n"
          ]
        }
      ],
      "source": [
        "!pip install pyLDAvis --no-deps\n",
        "!pip install funcy"
      ]
    },
    {
      "cell_type": "code",
      "execution_count": 32,
      "metadata": {
        "id": "7Mn7AB6w5z1r",
        "colab": {
          "base_uri": "https://localhost:8080/"
        },
        "outputId": "db01c568-8e0b-46f2-838b-be8f503ea307"
      },
      "outputs": [
        {
          "output_type": "stream",
          "name": "stderr",
          "text": [
            "/usr/local/lib/python3.10/dist-packages/ipykernel/ipkernel.py:283: DeprecationWarning: `should_run_async` will not call `transform_cell` automatically in the future. Please pass the result to `transformed_cell` argument and any exception that happen during thetransform in `preprocessing_exc_tuple` in IPython 7.17 and above.\n",
            "  and should_run_async(code)\n",
            "[nltk_data] Downloading package stopwords to /root/nltk_data...\n",
            "[nltk_data]   Package stopwords is already up-to-date!\n",
            "[nltk_data] Downloading package wordnet to /root/nltk_data...\n",
            "[nltk_data]   Package wordnet is already up-to-date!\n",
            "[nltk_data] Downloading package omw-1.4 to /root/nltk_data...\n",
            "[nltk_data]   Package omw-1.4 is already up-to-date!\n"
          ]
        },
        {
          "output_type": "execute_result",
          "data": {
            "text/plain": [
              "True"
            ]
          },
          "metadata": {},
          "execution_count": 32
        }
      ],
      "source": [
        "import pandas as pd\n",
        "import nltk\n",
        "import requests\n",
        "import seaborn as sns\n",
        "import string\n",
        "import gensim\n",
        "import spacy\n",
        "import re\n",
        "\n",
        "from nltk.corpus import stopwords\n",
        "from nltk.stem.wordnet import WordNetLemmatizer\n",
        "from gensim import corpora\n",
        "import pyLDAvis.gensim_models\n",
        "\n",
        "nltk.download('stopwords')\n",
        "nltk.download('wordnet')\n",
        "nltk.download('omw-1.4')"
      ]
    },
    {
      "cell_type": "markdown",
      "source": [
        "##**Import Dataset from Apify Runs**"
      ],
      "metadata": {
        "id": "OWmOaOF4WDR0"
      }
    },
    {
      "cell_type": "code",
      "source": [
        "# Fetching the dataset from Apify\n",
        "api_url = \"https://api.apify.com/v2/datasets/na5aYoW2Rcrm9h08r/items\"\n",
        "api_token = \"apify_api_NbL3VeatZbemul8vsNCyVKRhzmRv0M0Wh9ql\"  # Substitute with your actual API token\n"
      ],
      "metadata": {
        "id": "jZpa9wOZWMdp",
        "colab": {
          "base_uri": "https://localhost:8080/"
        },
        "outputId": "2d2f1c2c-7f1f-49c3-a198-0681e60f3a0e"
      },
      "execution_count": 61,
      "outputs": [
        {
          "output_type": "stream",
          "name": "stderr",
          "text": [
            "/usr/local/lib/python3.10/dist-packages/ipykernel/ipkernel.py:283: DeprecationWarning: `should_run_async` will not call `transform_cell` automatically in the future. Please pass the result to `transformed_cell` argument and any exception that happen during thetransform in `preprocessing_exc_tuple` in IPython 7.17 and above.\n",
            "  and should_run_async(code)\n"
          ]
        }
      ]
    },
    {
      "cell_type": "code",
      "source": [
        "# Making a GET request to the API\n",
        "params = {\"token\": api_token, \"format\": \"json\"}  # parameter untuk permintaan\n",
        "response = requests.get(api_url, params=params)\n",
        "\n",
        "# Checking the response status\n",
        "if response.status_code == 200:  # Sukses\n",
        "    # Processing the JSON data into a pandas DataFrame\n",
        "    data = response.json()\n",
        "    df_tweet = pd.DataFrame(data)\n",
        "\n",
        "    # Saving the DataFrame to a CSV file\n",
        "    df_tweet.to_csv(\"twitter_data.csv\", index=False)\n",
        "    print(\"Data berhasil diunduh dan disimpan sebagai twitter_data.csv\")\n",
        "else:\n",
        "    print(f\"Terjadi kesalahan: {response.status_code}. Pesan: {response.text}\")"
      ],
      "metadata": {
        "colab": {
          "base_uri": "https://localhost:8080/"
        },
        "id": "yKyjY7tTWsYU",
        "outputId": "f0a18eea-e03c-4437-d109-c2f627768e41"
      },
      "execution_count": 62,
      "outputs": [
        {
          "output_type": "stream",
          "name": "stderr",
          "text": [
            "/usr/local/lib/python3.10/dist-packages/ipykernel/ipkernel.py:283: DeprecationWarning: `should_run_async` will not call `transform_cell` automatically in the future. Please pass the result to `transformed_cell` argument and any exception that happen during thetransform in `preprocessing_exc_tuple` in IPython 7.17 and above.\n",
            "  and should_run_async(code)\n"
          ]
        },
        {
          "output_type": "stream",
          "name": "stdout",
          "text": [
            "Data berhasil diunduh dan disimpan sebagai twitter_data.csv\n"
          ]
        }
      ]
    },
    {
      "cell_type": "markdown",
      "metadata": {
        "id": "wx3jScZiTEjf"
      },
      "source": [
        "##**Data Preprocessing for Topic Modeling**"
      ]
    },
    {
      "cell_type": "code",
      "source": [
        "# Function for removing URL\n",
        "def remove_url(text):\n",
        "    return re.sub(r'https?://\\S+|www\\.\\S+|\\S+\\.\\S+/\\S+', '', text, flags=re.MULTILINE)\n",
        "\n",
        "# Menghapus URL dari setiap tweet\n",
        "df_tweet['text'] = df_tweet['text'].apply(remove_url)"
      ],
      "metadata": {
        "colab": {
          "base_uri": "https://localhost:8080/"
        },
        "id": "T6JGsyHI2K2B",
        "outputId": "6a986fef-38eb-44c6-d55a-1ee53ee9100d"
      },
      "execution_count": 63,
      "outputs": [
        {
          "output_type": "stream",
          "name": "stderr",
          "text": [
            "/usr/local/lib/python3.10/dist-packages/ipykernel/ipkernel.py:283: DeprecationWarning: `should_run_async` will not call `transform_cell` automatically in the future. Please pass the result to `transformed_cell` argument and any exception that happen during thetransform in `preprocessing_exc_tuple` in IPython 7.17 and above.\n",
            "  and should_run_async(code)\n"
          ]
        }
      ]
    },
    {
      "cell_type": "code",
      "execution_count": 64,
      "metadata": {
        "id": "-g4Qia2Q98uS",
        "colab": {
          "base_uri": "https://localhost:8080/"
        },
        "outputId": "02bf7925-bb33-4cb6-fd22-c9c41012e86f"
      },
      "outputs": [
        {
          "output_type": "stream",
          "name": "stderr",
          "text": [
            "/usr/local/lib/python3.10/dist-packages/ipykernel/ipkernel.py:283: DeprecationWarning: `should_run_async` will not call `transform_cell` automatically in the future. Please pass the result to `transformed_cell` argument and any exception that happen during thetransform in `preprocessing_exc_tuple` in IPython 7.17 and above.\n",
            "  and should_run_async(code)\n"
          ]
        }
      ],
      "source": [
        "# Select News Title\n",
        "tweet = df_tweet['text']\n",
        "\n",
        "# Tokenize\n",
        "tokenized_text = [d.lower().split() for d in tweet]\n",
        "\n",
        "# Remove punctuation\n",
        "punctuation = string.punctuation\n",
        "tokenized_text = [[word for word in doc if word not in punctuation] for doc in tokenized_text]\n",
        "\n",
        "# Lemmatization\n",
        "lemmatizer = WordNetLemmatizer()\n",
        "tokenized_text = [[lemmatizer.lemmatize(word) for word in doc] for doc in tokenized_text]\n",
        "\n",
        "# Remove stopwords\n",
        "stop_words = stopwords.words('indonesian')\n",
        "tokenized_text = [[word for word in doc if word not in stop_words] for doc in tokenized_text]\n",
        "\n",
        "# Adding additional words to the stop words list\n",
        "custom_stop_words = ['dgn', 'sdh', 'yg', 'the', 'gak', 'ga', 'a', 'krn', 'thd', 'nya', 'ya', 'n', 'kalo', 'aja', 'deh', 'tuh', 'udah', 'dll.', '2', '25', '20', '1.', '2.', '7.', 'u', '5', 'gua', '•']\n",
        "stop_words.extend(custom_stop_words)\n",
        "\n",
        "# Remove stopwords again\n",
        "tokenized_text = [[word for word in doc if word not in stop_words] for doc in tokenized_text]\n",
        "\n",
        "# Create dictionary\n",
        "dictionary = corpora.Dictionary(tokenized_text)\n",
        "\n",
        "# Create corpus\n",
        "corpus = [dictionary.doc2bow(doc) for doc in tokenized_text]"
      ]
    },
    {
      "cell_type": "markdown",
      "source": [
        "##**Setting Up LDA Model**"
      ],
      "metadata": {
        "id": "PZm36XHPec_9"
      }
    },
    {
      "cell_type": "code",
      "execution_count": 65,
      "metadata": {
        "id": "53FC4XGg9fXE",
        "colab": {
          "base_uri": "https://localhost:8080/"
        },
        "outputId": "53e7ac1f-d8da-40b1-97f9-a327cc4743a0"
      },
      "outputs": [
        {
          "output_type": "stream",
          "name": "stderr",
          "text": [
            "/usr/local/lib/python3.10/dist-packages/ipykernel/ipkernel.py:283: DeprecationWarning: `should_run_async` will not call `transform_cell` automatically in the future. Please pass the result to `transformed_cell` argument and any exception that happen during thetransform in `preprocessing_exc_tuple` in IPython 7.17 and above.\n",
            "  and should_run_async(code)\n"
          ]
        }
      ],
      "source": [
        "# Train LDA model\n",
        "lda_model = gensim.models.ldamodel.LdaModel(corpus=corpus,\n",
        "                                           id2word=dictionary,\n",
        "                                           num_topics=3,\n",
        "                                           passes = 200,\n",
        "                                           per_word_topics=True)"
      ]
    },
    {
      "cell_type": "markdown",
      "source": [
        "##**Visualizing Topics**"
      ],
      "metadata": {
        "id": "lw-JYt9PehXo"
      }
    },
    {
      "cell_type": "code",
      "execution_count": 66,
      "metadata": {
        "id": "OVqwRX_s9-iq",
        "colab": {
          "base_uri": "https://localhost:8080/",
          "height": 917
        },
        "outputId": "ee3ef18f-abf8-43ca-b01a-8761d2937c83"
      },
      "outputs": [
        {
          "output_type": "stream",
          "name": "stderr",
          "text": [
            "/usr/local/lib/python3.10/dist-packages/ipykernel/ipkernel.py:283: DeprecationWarning: `should_run_async` will not call `transform_cell` automatically in the future. Please pass the result to `transformed_cell` argument and any exception that happen during thetransform in `preprocessing_exc_tuple` in IPython 7.17 and above.\n",
            "  and should_run_async(code)\n"
          ]
        },
        {
          "output_type": "execute_result",
          "data": {
            "text/plain": [
              "PreparedData(topic_coordinates=              x         y  topics  cluster       Freq\n",
              "topic                                                \n",
              "2     -0.116240 -0.006208       1        1  51.154883\n",
              "0      0.064698 -0.079172       2        1  26.810108\n",
              "1      0.051542  0.085381       3        1  22.035009, topic_info=        Term       Freq      Total Category  logprob  loglift\n",
              "740   persen  30.000000  30.000000  Default  30.0000  30.0000\n",
              "423    tukar  14.000000  14.000000  Default  29.0000  29.0000\n",
              "415    nilai  16.000000  16.000000  Default  28.0000  28.0000\n",
              "95        6%  39.000000  39.000000  Default  27.0000  27.0000\n",
              "621  naikkan  38.000000  38.000000  Default  26.0000  26.0000\n",
              "..       ...        ...        ...      ...      ...      ...\n",
              "27      bank   5.071035  69.773018   Topic3  -5.7534  -1.1092\n",
              "82     orang   3.368200   9.329777   Topic3  -6.1625   0.4937\n",
              "308  sentral   3.296331   8.554925   Topic3  -6.1841   0.5588\n",
              "829    level   3.178595  15.807827   Topic3  -6.2205  -0.0915\n",
              "146   bunga.   2.924723   5.675782   Topic3  -6.3037   0.8495\n",
              "\n",
              "[206 rows x 6 columns], token_table=      Topic      Freq          Term\n",
              "term                               \n",
              "1598      1  0.961253  #adadikompas\n",
              "2496      3  0.890069          #dxy\n",
              "500       3  0.978276        #issue\n",
              "501       3  0.978276          #isu\n",
              "912       1  0.960737       #update\n",
              "...     ...       ...           ...\n",
              "136       3  0.162471        turun,\n",
              "1389      1  0.857245        untung\n",
              "15        1  0.263163         utang\n",
              "15        2  0.614046         utang\n",
              "15        3  0.175442         utang\n",
              "\n",
              "[242 rows x 3 columns], R=30, lambda_step=0.01, plot_opts={'xlab': 'PC1', 'ylab': 'PC2'}, topic_order=[3, 1, 2])"
            ],
            "text/html": [
              "\n",
              "<link rel=\"stylesheet\" type=\"text/css\" href=\"https://cdn.jsdelivr.net/gh/bmabey/pyLDAvis@3.4.0/pyLDAvis/js/ldavis.v1.0.0.css\">\n",
              "\n",
              "\n",
              "<div id=\"ldavis_el169138518414832720157830428\" style=\"background-color:white;\"></div>\n",
              "<script type=\"text/javascript\">\n",
              "\n",
              "var ldavis_el169138518414832720157830428_data = {\"mdsDat\": {\"x\": [-0.11624003758939756, 0.06469808902294463, 0.051541948566453], \"y\": [-0.006208080771117334, -0.07917246896524682, 0.08538054973636416], \"topics\": [1, 2, 3], \"cluster\": [1, 1, 1], \"Freq\": [51.15488300852389, 26.8101079166907, 22.035009074785417]}, \"tinfo\": {\"Term\": [\"persen\", \"tukar\", \"nilai\", \"6%\", \"naikkan\", \"6\", \"pasar\", \"acuan\", \"fed\", \"ihsg\", \"menaikkan\", \"kebijakan\", \"saham\", \"libya\", \"turun\", \"cicilan\", \"rate\", \"pergerakan\", \"indonesia\", \"global\", \"naik,\", \"6%,\", \"negara.\", \"impor\", \"bersamaan\", \"pejuang\", \"intervensi\", \"repo\", \"gw\", \"sampe\", \"persen\", \"6\", \"repo\", \"reverse\", \"bps\", \"rekomendasi\", \"7-day\", \"naikkan\", \"6%\", \"6%,\", \"5,75\", \"imbal\", \"biaya\", \"#update\", \"emiten\", \"acuan,\", \"0,25\", \"jaga\", \"bitcoin\", \"#adadikompas\", \"cek\", \"(bi7drr)\", \"angka\", \"januari\", \"pendanaan\", \"treasury\", \"dampaknya\", \"untung\", \"sinyal\", \"naik?\", \"rate\", \"acuan\", \"indonesia\", \"hasil\", \"(bi)\", \"2023.\", \"bunga\", \"suku\", \"naik,\", \"kredit\", \"bi\", \"bank\", \"fed\", \"turun,\", \"tingkat\", \"saham\", \"menaikkan\", \"memutuskan\", \"inflasi\", \"kpr\", \"kenaikan\", \"rupiah\", \"naikin\", \"level\", \"turun\", \"tukar\", \"libya\", \"negara.\", \"impor\", \"bersamaan\", \"besarnya\", \"ln\", \"negatifnya\", \"pangan,\", \"penurunan\", \"berpengaruh.\", \"cadev\", \"pemasukan\", \"tdk\", \"terakhir,\", \"sentimen\", \"meningkatnya\", \"tembus\", \"menekan\", \"kurs\", \"berita\", \"okt\", \"efek\", \"kompak\", \"rilis\", \"stabilisasi\", \"efeknya\", \"nilai\", \"menjaga\", \"gaddafi\", \"intervensi\", \"global\", \"ihsg\", \"harga\", \"kuat\", \"dhe\", \"bayar\", \"pengaruh\", \"utang\", \"bunga\", \"suku\", \"turun\", \"bi\", \"kenaikan\", \"rupiah\", \"menaikkan\", \"saham\", \"bank\", \"dampak\", \"perekonomian\", \"acuan\", \"dolar\", \"naik,\", \"inflasi\", \"kerek\", \"obligasi\", \"ekonomi\", \"indonesia\", \"pergerakan\", \"pejuang\", \"kerajaan\", \"dulu,\", \"#dxy\", \"3\", \"ramal\", \"mna\", \"jugak.\", \"kpu\", \"perbedaan\", \"21\", \"subsidi\", \"pengumuman\", \"pertemuan\", \"fomc\", \"daftar\", \"gaza\", \"selepas\", \"sulaiman\", \"#issue\", \"#isu\", \"bom\", \"isu,\", \"prabowo?\", \"lu\", \"la\", \"itu?\", \"basic.\", \"belajar\", \"nabung\", \"pelaku\", \"klo\", \"cicilan\", \"bos\", \"gw\", \"sampe\", \"pasar\", \"kebijakan\", \"bicara\", \"5,75%\", \"berpotensi\", \"daya\", \"geopolitik\", \"suku\", \"bunga\", \"bi\", \"fed\", \"kpr\", \"dolar\", \"bunga,\", \"kenaikan\", \"ekonomi\", \"rupiah\", \"ekonom\", \"naikin\", \"inflasi\", \"acuan\", \"bank\", \"orang\", \"sentral\", \"level\", \"bunga.\"], \"Freq\": [30.0, 14.0, 16.0, 39.0, 38.0, 30.0, 19.0, 101.0, 34.0, 20.0, 38.0, 18.0, 38.0, 7.0, 22.0, 9.0, 25.0, 5.0, 44.0, 10.0, 30.0, 17.0, 5.0, 5.0, 5.0, 4.0, 6.0, 12.0, 6.0, 6.0, 30.242273090119568, 29.525736108050673, 12.102415980730024, 11.312421748247882, 11.298035325919566, 9.734074211627732, 9.732237132291436, 36.245385202846634, 37.55210336397974, 16.174901151823132, 6.538879537592973, 5.789882590675549, 5.789850186877284, 5.787949164045744, 5.7864188406663555, 5.78499048123884, 5.771971931247945, 5.768967019022182, 5.758393011572389, 5.758282406607645, 5.748814448805293, 5.000239615366598, 5.000161846250763, 5.000034823361564, 4.210584110588986, 4.2105646683100275, 4.210344322481826, 4.2102328534157945, 4.210209090630401, 4.210057872905164, 22.410050383165302, 86.64486009275423, 38.00911270908691, 8.95697409855115, 12.18425933413422, 8.846631820598319, 278.6356677171947, 276.20747397244395, 24.297885300861314, 15.974400273780697, 110.4553162267986, 49.2787251513711, 25.98014706595983, 10.532240249981632, 12.865081281806216, 26.714327268107983, 25.97098240770924, 8.445052844853688, 20.0153388350857, 17.936492599681777, 25.900445819646265, 20.531172739410984, 12.879039973997434, 11.279368145815138, 12.173020832794675, 13.544606567513103, 6.559749304779682, 5.153946925626075, 5.153941944026639, 5.153886240687494, 4.451081286554334, 4.451081286554334, 4.451081286554334, 4.451081286554334, 4.447749955149883, 3.7482235727544237, 3.7482235727544237, 3.7482235727544237, 3.7482235727544237, 3.7482235727544237, 3.7463543407843485, 3.7392505799890476, 3.718362507118842, 3.6906473786583547, 3.6606076547521016, 3.0453327992491674, 3.0452005604277836, 3.0435684073035794, 3.043211090762237, 3.0430288095101585, 3.0364064523694165, 3.0231730599048316, 14.021563918138904, 2.9943028796842768, 2.3425955495810653, 5.533376333990549, 7.194308611007204, 11.466666413225148, 7.155035039674216, 5.114187874784443, 3.794250834304187, 4.4565347793183925, 5.225903865111305, 6.602756358453386, 66.14040224622447, 65.85695467280554, 9.988917510657858, 32.12115389738198, 15.576963275473748, 12.843607669611721, 12.485222348754325, 11.823291870863716, 15.423258289248768, 5.87127822371372, 4.479664798370998, 8.404239934821408, 5.116171457105201, 5.54027313197293, 5.188725735650039, 4.878577695001151, 4.6048501278266265, 4.642649598599326, 4.657913219270294, 4.812680125030976, 4.134358832320523, 2.8729586898603103, 2.8729277962344764, 2.8729261212788586, 2.872868986681683, 2.8724089322054036, 2.2098886124721275, 2.2098854486670723, 2.20988005158786, 2.209872049022132, 2.209871862915952, 2.209865907518201, 2.207193608883532, 2.2067199686561327, 2.2025578900527667, 1.5468500800814076, 1.5468500800814076, 1.546847660701071, 1.546847660701071, 1.5468460787985434, 1.5468460787985434, 1.5468460787985434, 1.5468460787985434, 1.5468460787985434, 1.5468310972510757, 1.54682821260529, 1.5468266307027623, 1.5468222572075387, 1.5468222572075387, 3.5464542493304982, 3.519334112396279, 2.9067217007736277, 5.99447223247682, 4.17453320112536, 4.2379939195620855, 4.220036162068078, 11.205543156622243, 9.960668498496874, 2.7074246872422743, 4.474190205347478, 2.879208693694009, 2.8751020747322014, 2.219419854360554, 62.66355867073884, 60.35719987283838, 24.80882473423927, 7.772698541341837, 7.1474904634754095, 4.770422483650299, 4.648340551874414, 8.643417147076525, 5.122703615676125, 7.110843923413436, 3.508507199284608, 4.90570902109002, 5.482632967263922, 6.838417975408654, 5.071034584786765, 3.3682002615406303, 3.2963312659039383, 3.1785945412122674, 2.9247230071136903], \"Total\": [30.0, 14.0, 16.0, 39.0, 38.0, 30.0, 19.0, 101.0, 34.0, 20.0, 38.0, 18.0, 38.0, 7.0, 22.0, 9.0, 25.0, 5.0, 44.0, 10.0, 30.0, 17.0, 5.0, 5.0, 5.0, 4.0, 6.0, 12.0, 6.0, 6.0, 30.720942689675546, 30.640910890081365, 12.561983190475464, 11.77230921281214, 11.770628711094176, 10.193000095450639, 10.192934935681539, 38.3128379325521, 39.848684941559455, 17.226424033698315, 7.03047946203376, 6.245442207378052, 6.245436106653285, 6.245203268165645, 6.244995052628285, 6.244853700261276, 6.243358740784, 6.242984789351972, 6.241824792268066, 6.2418545187561225, 6.238706566590699, 5.455804835603152, 5.455791527348823, 5.455768745832987, 4.666166151411295, 4.666162656875105, 4.666123681199924, 4.6661084216285165, 4.666103292540789, 4.666073608937393, 25.48589321305565, 101.8875180029843, 44.149951699508186, 10.107495629819688, 13.97601907868858, 10.095079399007696, 405.13326983625757, 404.72798731598834, 30.067163715414704, 19.268407686600845, 167.38529485841985, 69.77301802540663, 34.01622061832163, 12.309868269960091, 16.06274210037345, 38.76698479290592, 38.685323075284934, 10.051270632676133, 30.68669753799966, 28.952565021950388, 50.120826242196536, 40.48562433243614, 18.691333576709606, 15.80782725220844, 22.407900667335348, 14.07388645541033, 7.043993914665831, 5.638274928792924, 5.638273898209914, 5.6382721247973695, 4.935415107251674, 4.935415107251674, 4.935415107251674, 4.935415107251674, 4.935763963595509, 4.232555994295209, 4.232555994295209, 4.232555994295209, 4.232555994295209, 4.232555994295209, 4.232738200958022, 4.233529897684259, 4.235835044746991, 4.238593574846545, 4.23294373838973, 3.5296952694657593, 3.5296926006475937, 3.5298603343508628, 3.5299213284093125, 3.5299427113055106, 3.530655849187048, 3.5320578880260523, 16.383602306115545, 3.535538713826057, 2.8268407244416225, 6.985738502878827, 10.547843916065364, 20.64496333492176, 11.392147114008138, 7.629212274033813, 4.898008702814864, 6.2616223950999945, 7.997719797132995, 11.399789172984239, 405.13326983625757, 404.72798731598834, 22.407900667335348, 167.38529485841985, 50.120826242196536, 40.48562433243614, 38.685323075284934, 38.76698479290592, 69.77301802540663, 11.559172665834883, 7.046515046562158, 101.8875180029843, 13.459657083268517, 30.067163715414704, 30.68669753799966, 15.147250754777417, 12.654331609755143, 18.18868860148138, 44.149951699508186, 5.368583882021741, 4.70377918927081, 3.3705209292682894, 3.370522858003657, 3.370523320040979, 3.3705255101176372, 3.3705837982246205, 2.7074687826398476, 2.7074683450176114, 2.7074693859171184, 2.707469068034611, 2.707471733519014, 2.707469648861096, 2.7079363720508427, 2.7080105004914556, 2.708760010833841, 2.04441269444395, 2.04441269444395, 2.0444122591455685, 2.0444122591455685, 2.044412700205063, 2.044412700205063, 2.044412700205063, 2.044412700205063, 2.044412700205063, 2.044413168540006, 2.044413121993831, 2.0444143563899924, 2.0444135796890244, 2.0444135796890244, 4.7355372049021165, 4.737440502336559, 4.071087770031815, 9.091124777251055, 6.115937693615236, 6.267938622890311, 6.271370909331848, 19.635271239921572, 18.1138078451172, 4.191151602204615, 8.471063546566533, 4.776636153146012, 4.7765930063156095, 3.4128155820915738, 404.72798731598834, 405.13326983625757, 167.38529485841985, 34.01622061832163, 28.952565021950388, 13.459657083268517, 12.949978058163387, 50.120826242196536, 18.18868860148138, 40.48562433243614, 7.983851487979878, 18.691333576709606, 30.68669753799966, 101.8875180029843, 69.77301802540663, 9.329777300669697, 8.554924946085901, 15.80782725220844, 5.6757820653157705], \"Category\": [\"Default\", \"Default\", \"Default\", \"Default\", \"Default\", \"Default\", \"Default\", \"Default\", \"Default\", \"Default\", \"Default\", \"Default\", \"Default\", \"Default\", \"Default\", \"Default\", \"Default\", \"Default\", \"Default\", \"Default\", \"Default\", \"Default\", \"Default\", \"Default\", \"Default\", \"Default\", \"Default\", \"Default\", \"Default\", \"Default\", \"Topic1\", \"Topic1\", \"Topic1\", \"Topic1\", \"Topic1\", \"Topic1\", \"Topic1\", \"Topic1\", \"Topic1\", \"Topic1\", \"Topic1\", \"Topic1\", \"Topic1\", \"Topic1\", \"Topic1\", \"Topic1\", \"Topic1\", \"Topic1\", \"Topic1\", \"Topic1\", \"Topic1\", \"Topic1\", \"Topic1\", \"Topic1\", \"Topic1\", \"Topic1\", \"Topic1\", \"Topic1\", \"Topic1\", \"Topic1\", \"Topic1\", \"Topic1\", \"Topic1\", \"Topic1\", \"Topic1\", \"Topic1\", \"Topic1\", \"Topic1\", \"Topic1\", \"Topic1\", \"Topic1\", \"Topic1\", \"Topic1\", \"Topic1\", \"Topic1\", \"Topic1\", \"Topic1\", \"Topic1\", \"Topic1\", \"Topic1\", \"Topic1\", \"Topic1\", \"Topic1\", \"Topic1\", \"Topic1\", \"Topic2\", \"Topic2\", \"Topic2\", \"Topic2\", \"Topic2\", \"Topic2\", \"Topic2\", \"Topic2\", \"Topic2\", \"Topic2\", \"Topic2\", \"Topic2\", \"Topic2\", \"Topic2\", \"Topic2\", \"Topic2\", \"Topic2\", \"Topic2\", \"Topic2\", \"Topic2\", \"Topic2\", \"Topic2\", \"Topic2\", \"Topic2\", \"Topic2\", \"Topic2\", \"Topic2\", \"Topic2\", \"Topic2\", \"Topic2\", \"Topic2\", \"Topic2\", \"Topic2\", \"Topic2\", \"Topic2\", \"Topic2\", \"Topic2\", \"Topic2\", \"Topic2\", \"Topic2\", \"Topic2\", \"Topic2\", \"Topic2\", \"Topic2\", \"Topic2\", \"Topic2\", \"Topic2\", \"Topic2\", \"Topic2\", \"Topic2\", \"Topic2\", \"Topic2\", \"Topic2\", \"Topic2\", \"Topic2\", \"Topic2\", \"Topic2\", \"Topic2\", \"Topic3\", \"Topic3\", \"Topic3\", \"Topic3\", \"Topic3\", \"Topic3\", \"Topic3\", \"Topic3\", \"Topic3\", \"Topic3\", \"Topic3\", \"Topic3\", \"Topic3\", \"Topic3\", \"Topic3\", \"Topic3\", \"Topic3\", \"Topic3\", \"Topic3\", \"Topic3\", \"Topic3\", \"Topic3\", \"Topic3\", \"Topic3\", \"Topic3\", \"Topic3\", \"Topic3\", \"Topic3\", \"Topic3\", \"Topic3\", \"Topic3\", \"Topic3\", \"Topic3\", \"Topic3\", \"Topic3\", \"Topic3\", \"Topic3\", \"Topic3\", \"Topic3\", \"Topic3\", \"Topic3\", \"Topic3\", \"Topic3\", \"Topic3\", \"Topic3\", \"Topic3\", \"Topic3\", \"Topic3\", \"Topic3\", \"Topic3\", \"Topic3\", \"Topic3\", \"Topic3\", \"Topic3\", \"Topic3\", \"Topic3\", \"Topic3\", \"Topic3\", \"Topic3\", \"Topic3\", \"Topic3\", \"Topic3\", \"Topic3\"], \"logprob\": [30.0, 29.0, 28.0, 27.0, 26.0, 25.0, 24.0, 23.0, 22.0, 21.0, 20.0, 19.0, 18.0, 17.0, 16.0, 15.0, 14.0, 13.0, 12.0, 11.0, 10.0, 9.0, 8.0, 7.0, 6.0, 5.0, 4.0, 3.0, 2.0, 1.0, -4.8099, -4.8339, -5.7257, -5.7932, -5.7945, -5.9435, -5.9437, -4.6288, -4.5934, -5.4357, -6.3414, -6.463, -6.463, -6.4634, -6.4636, -6.4639, -6.4661, -6.4666, -6.4685, -6.4685, -6.4701, -6.6096, -6.6097, -6.6097, -6.7815, -6.7815, -6.7816, -6.7816, -6.7816, -6.7817, -5.1096, -3.7573, -4.5813, -6.0267, -5.719, -6.0391, -2.5892, -2.598, -5.0287, -5.4481, -3.5145, -4.3216, -4.9618, -5.8647, -5.6646, -4.9339, -4.9622, -6.0856, -5.2226, -5.3323, -4.9649, -5.1972, -5.6635, -5.7962, -5.7199, -4.9671, -5.6921, -5.9333, -5.9333, -5.9333, -6.0799, -6.0799, -6.0799, -6.0799, -6.0807, -6.2518, -6.2518, -6.2518, -6.2518, -6.2518, -6.2523, -6.2542, -6.2598, -6.2673, -6.2754, -6.4594, -6.4595, -6.46, -6.4601, -6.4602, -6.4624, -6.4667, -4.9325, -6.4763, -6.7218, -5.8623, -5.5998, -5.1336, -5.6052, -5.941, -6.2396, -6.0787, -5.9194, -5.6856, -3.3813, -3.3856, -5.2716, -4.1035, -4.8273, -5.0202, -5.0485, -5.103, -4.8372, -5.803, -6.0735, -5.4443, -5.9406, -5.861, -5.9266, -5.9882, -6.0459, -6.0378, -6.0345, -5.8057, -5.9576, -6.3216, -6.3216, -6.3216, -6.3216, -6.3218, -6.584, -6.584, -6.584, -6.584, -6.584, -6.584, -6.5852, -6.5854, -6.5873, -6.9407, -6.9407, -6.9407, -6.9407, -6.9407, -6.9407, -6.9407, -6.9407, -6.9407, -6.9407, -6.9407, -6.9407, -6.9407, -6.9407, -6.111, -6.1186, -6.3099, -5.5861, -5.9479, -5.9328, -5.9371, -4.9605, -5.0783, -6.3809, -5.8786, -6.3194, -6.3208, -6.5797, -3.2391, -3.2766, -4.1657, -5.3263, -5.4101, -5.8145, -5.8404, -5.2201, -5.7432, -5.4153, -6.1217, -5.7865, -5.6753, -5.4544, -5.7534, -6.1625, -6.1841, -6.2205, -6.3037], \"loglift\": [30.0, 29.0, 28.0, 27.0, 26.0, 25.0, 24.0, 23.0, 22.0, 21.0, 20.0, 19.0, 18.0, 17.0, 16.0, 15.0, 14.0, 13.0, 12.0, 11.0, 10.0, 9.0, 8.0, 7.0, 6.0, 5.0, 4.0, 3.0, 2.0, 1.0, 0.6546, 0.6332, 0.633, 0.6305, 0.6293, 0.6242, 0.6241, 0.6148, 0.611, 0.6073, 0.5978, 0.5946, 0.5946, 0.5943, 0.594, 0.5938, 0.5918, 0.5913, 0.5897, 0.5897, 0.5885, 0.5831, 0.5831, 0.5831, 0.5676, 0.5676, 0.5675, 0.5675, 0.5675, 0.5675, 0.5417, 0.5083, 0.5205, 0.5495, 0.5331, 0.5383, 0.296, 0.2882, 0.4573, 0.4828, 0.2546, 0.3226, 0.4008, 0.5144, 0.4483, 0.2979, 0.2718, 0.4962, 0.243, 0.1915, 0.0101, -0.0087, 0.2979, 0.3328, 0.0601, 1.2781, 1.2452, 1.2266, 1.2266, 1.2266, 1.2131, 1.2131, 1.2131, 1.2131, 1.2123, 1.1949, 1.1949, 1.1949, 1.1949, 1.1949, 1.1943, 1.1922, 1.1861, 1.178, 1.1711, 1.1688, 1.1687, 1.1682, 1.168, 1.168, 1.1656, 1.1608, 1.1607, 1.1502, 1.1285, 1.0833, 0.9338, 0.7284, 0.8513, 0.9164, 1.061, 0.9763, 0.8909, 0.7703, -0.496, -0.4993, 0.5085, -0.3344, 0.1477, 0.1683, 0.1855, 0.1289, -0.193, 0.639, 0.8634, -1.1787, 0.3491, -0.375, -0.4609, 0.1834, 0.3055, -0.0491, -0.9326, 1.4032, 1.3835, 1.3528, 1.3528, 1.3528, 1.3528, 1.3526, 1.3095, 1.3095, 1.3095, 1.3095, 1.3095, 1.3095, 1.3081, 1.3078, 1.3057, 1.2336, 1.2336, 1.2336, 1.2336, 1.2336, 1.2336, 1.2336, 1.2336, 1.2336, 1.2336, 1.2336, 1.2336, 1.2336, 1.2336, 1.2234, 1.2153, 1.1757, 1.0961, 1.1306, 1.1212, 1.1164, 0.9516, 0.9145, 1.0756, 0.8742, 1.0063, 1.0049, 1.0822, -0.3529, -0.3914, -0.3966, 0.0363, 0.1136, 0.4753, 0.488, -0.2451, 0.2454, -0.2268, 0.6903, 0.1749, -0.2097, -1.1888, -1.1092, 0.4937, 0.5588, -0.0915, 0.8495]}, \"token.table\": {\"Topic\": [1, 3, 3, 3, 1, 1, 2, 1, 1, 1, 2, 3, 3, 1, 1, 2, 3, 1, 2, 1, 3, 1, 2, 1, 1, 2, 3, 1, 1, 1, 2, 3, 3, 2, 3, 3, 2, 2, 2, 3, 2, 2, 1, 2, 3, 1, 1, 3, 1, 3, 2, 3, 1, 1, 2, 3, 1, 2, 3, 1, 2, 3, 2, 1, 1, 3, 3, 1, 2, 3, 1, 2, 3, 2, 3, 1, 2, 3, 3, 2, 2, 1, 3, 1, 2, 3, 1, 1, 3, 3, 2, 3, 2, 3, 1, 2, 3, 1, 3, 1, 2, 3, 1, 2, 1, 2, 1, 2, 1, 2, 3, 1, 2, 3, 2, 3, 3, 3, 1, 1, 3, 1, 2, 3, 1, 2, 3, 3, 1, 2, 2, 3, 2, 1, 2, 3, 3, 1, 2, 3, 2, 3, 2, 3, 1, 2, 3, 2, 2, 3, 1, 2, 1, 2, 2, 2, 2, 3, 2, 3, 1, 2, 1, 1, 2, 3, 1, 3, 2, 2, 1, 2, 1, 2, 3, 2, 1, 2, 3, 2, 1, 2, 3, 3, 2, 3, 2, 1, 1, 2, 3, 2, 3, 1, 2, 3, 3, 1, 3, 3, 3, 1, 3, 1, 1, 1, 2, 1, 2, 3, 1, 2, 1, 3, 3, 2, 1, 2, 3, 1, 2, 3, 1, 2, 3, 3, 2, 2, 2, 1, 2, 3, 1, 2, 1, 2, 1, 3, 1, 1, 2, 3], \"Freq\": [0.9612527786366416, 0.8900694981583827, 0.9782760593296019, 0.9782760593296019, 0.9607373439043134, 0.8586135960774607, 0.1431022660129101, 0.9164550695382854, 0.9610211825256351, 0.8915234486302963, 0.09905816095892181, 0.7386965393727367, 0.8900689198152055, 0.9956646680787055, 0.35414679437931396, 0.11804893145977131, 0.47219572583908526, 0.9790831645840911, 0.032636105486136366, 0.9536073789067151, 0.05018986204772185, 0.9288056516373226, 0.058050353227332666, 0.981071699476257, 0.8538828082695249, 0.07851795938110573, 0.06870321445846751, 0.9607911230568891, 0.9164573050374032, 0.7022772038061691, 0.2149828174916844, 0.07166093916389481, 0.9782756384861325, 0.6388120757856913, 0.31940603789284566, 0.9782756384861325, 0.8499317280876963, 0.9450554240490482, 0.41870469842731267, 0.628057047640969, 0.8867965024266529, 0.810468808210832, 0.6571664499742449, 0.19117569453796215, 0.14935601135778293, 0.9607015262886412, 0.2385979069509162, 0.7157937208527486, 0.961257356571812, 0.9782760593296019, 0.32701444981820366, 0.6540288996364073, 0.9345295200444277, 0.6886622767682428, 0.16290935579463808, 0.1480994143587619, 0.38610104029080633, 0.2316606241744838, 0.38610104029080633, 0.35237434717971866, 0.17618717358985933, 0.528561520769578, 0.9450554240490482, 0.9617378115090374, 0.32999217077153903, 0.6599843415430781, 0.978276062086364, 0.3460455272739965, 0.5190682909109948, 0.17302276363699826, 0.8572426007729341, 0.41870848057508786, 0.6280627208626318, 0.81665841012108, 0.20416460253027, 0.29718439149332676, 0.3714804893666585, 0.3714804893666585, 0.8900696201707068, 0.8498919832055328, 0.8493632027295562, 0.5010113234223128, 0.5010113234223128, 0.43983379864716793, 0.27489612415447995, 0.27489612415447995, 0.9607693760261385, 0.7643412327234267, 0.23518191776105438, 0.7383452177383324, 0.707503603831466, 0.978276062086364, 0.29301319568728096, 0.5860263913745619, 0.09480610520571937, 0.6636427364400357, 0.18961221041143875, 0.31908417110149484, 0.6381683422029897, 0.17555953061216512, 0.6144583571425779, 0.17555953061216512, 0.8904282850687273, 0.09893647611874747, 0.435941680011422, 0.532817608902849, 0.9607005878481912, 0.8867962235015652, 0.860703093372202, 0.11325040702265815, 0.02265008140453163, 0.6517482037691996, 0.1629370509422999, 0.1629370509422999, 0.8588927280240158, 0.14314878800400263, 0.9782760593296019, 0.9782752668258411, 0.9610787471777271, 0.9164611318650383, 0.7386974638800405, 0.22082601483918518, 0.22082601483918518, 0.552065037097963, 0.5187464363488624, 0.3192285762146846, 0.1795660741207601, 0.8900701295011018, 0.6601858094179908, 0.3300929047089954, 0.24563459608049307, 0.7369037882414792, 0.8498772977900585, 0.621706573713013, 0.13815701638066955, 0.24177477866617172, 0.7386971798842805, 0.8303747907060488, 0.1037968488382561, 0.05189842441912805, 0.6553756561496665, 0.2621502624598666, 0.9449688555325931, 0.9782758574986464, 0.6958578066737945, 0.06325980060670859, 0.18977940182012576, 0.993754407627435, 0.810468808210832, 0.9782758352257518, 0.7959192715389074, 0.09948990894236343, 0.6720895143980519, 0.31019516049140855, 0.9437092585940648, 0.9448380185499575, 0.8485269835310296, 0.7386973444805341, 0.211169283806877, 0.844677135227508, 0.7982129683783836, 0.1995532420945959, 0.857251799958407, 0.6955094962404764, 0.053500730480036646, 0.2675036524001832, 0.9396328213372307, 0.05220182340762392, 0.8867960614099444, 0.810468808210832, 0.12207327562226382, 0.8545129293558467, 0.5531702673734064, 0.3951216195524331, 0.07902432391048662, 0.8499323707253117, 0.4287347780222876, 0.2143673890111438, 0.3215510835167157, 0.810468808210832, 0.30557255495412067, 0.15278627747706033, 0.5602163507492213, 0.8503800537924674, 0.2110844451781059, 0.8443377807124236, 0.9450554240490482, 0.8572347983772908, 0.3751069149828722, 0.6251781916381203, 0.7385697908718991, 0.8104115248424801, 0.7386972666143247, 0.14191412256869845, 0.5676564902747938, 0.2838282451373969, 0.9313443004483825, 0.9765325336218333, 0.7385495734366745, 0.9782760593296019, 0.8900535276945741, 0.8632226391315988, 0.11771217806339983, 0.9810654278776295, 0.9552631792325943, 0.9343961155920358, 0.8498721495937488, 0.5187026344848853, 0.32110163087159566, 0.1729008781616284, 0.6964689192165598, 0.3095417418740266, 0.31890953810816464, 0.6378190762163293, 0.978276270381919, 0.945014742252345, 0.3506751980767029, 0.2337834653844686, 0.3506751980767029, 0.857246346516671, 0.8497004885624199, 0.7386971081435041, 0.6819394967724707, 0.1630724883586343, 0.1556601025241509, 0.978276270381919, 0.9450554240490482, 0.9443238364441368, 0.9450554240490482, 0.8093263229133062, 0.06225587099333125, 0.1245117419866625, 0.8572354403690613, 0.9947501029197287, 0.5355254014265045, 0.4462711678554204, 0.8935920156711524, 0.16247127557657318, 0.8572454042128669, 0.2631627615631298, 0.6140464436473029, 0.17544184104208654], \"Term\": [\"#adadikompas\", \"#dxy\", \"#issue\", \"#isu\", \"#update\", \"(bi)\", \"(bi)\", \"(bi7drr)\", \"0,25\", \"2023.\", \"2023.\", \"21\", \"3\", \"5,75\", \"5,75%\", \"5,75%\", \"5,75%\", \"6\", \"6\", \"6%\", \"6%\", \"6%,\", \"6%,\", \"7-day\", \"acuan\", \"acuan\", \"acuan\", \"acuan,\", \"angka\", \"bank\", \"bank\", \"bank\", \"basic.\", \"bayar\", \"bayar\", \"belajar\", \"berita\", \"berpengaruh.\", \"berpotensi\", \"berpotensi\", \"bersamaan\", \"besarnya\", \"bi\", \"bi\", \"bi\", \"biaya\", \"bicara\", \"bicara\", \"bitcoin\", \"bom\", \"bos\", \"bos\", \"bps\", \"bunga\", \"bunga\", \"bunga\", \"bunga,\", \"bunga,\", \"bunga,\", \"bunga.\", \"bunga.\", \"bunga.\", \"cadev\", \"cek\", \"cicilan\", \"cicilan\", \"daftar\", \"dampak\", \"dampak\", \"dampak\", \"dampaknya\", \"daya\", \"daya\", \"dhe\", \"dhe\", \"dolar\", \"dolar\", \"dolar\", \"dulu,\", \"efek\", \"efeknya\", \"ekonom\", \"ekonom\", \"ekonomi\", \"ekonomi\", \"ekonomi\", \"emiten\", \"fed\", \"fed\", \"fomc\", \"gaddafi\", \"gaza\", \"geopolitik\", \"geopolitik\", \"global\", \"global\", \"global\", \"gw\", \"gw\", \"harga\", \"harga\", \"harga\", \"hasil\", \"hasil\", \"ihsg\", \"ihsg\", \"imbal\", \"impor\", \"indonesia\", \"indonesia\", \"indonesia\", \"inflasi\", \"inflasi\", \"inflasi\", \"intervensi\", \"intervensi\", \"isu,\", \"itu?\", \"jaga\", \"januari\", \"jugak.\", \"kebijakan\", \"kebijakan\", \"kebijakan\", \"kenaikan\", \"kenaikan\", \"kenaikan\", \"kerajaan\", \"kerek\", \"kerek\", \"klo\", \"klo\", \"kompak\", \"kpr\", \"kpr\", \"kpr\", \"kpu\", \"kredit\", \"kredit\", \"kredit\", \"kuat\", \"kuat\", \"kurs\", \"la\", \"level\", \"level\", \"level\", \"libya\", \"ln\", \"lu\", \"memutuskan\", \"memutuskan\", \"menaikkan\", \"menaikkan\", \"menekan\", \"meningkatnya\", \"menjaga\", \"mna\", \"nabung\", \"nabung\", \"naik,\", \"naik,\", \"naik?\", \"naikin\", \"naikin\", \"naikin\", \"naikkan\", \"naikkan\", \"negara.\", \"negatifnya\", \"nilai\", \"nilai\", \"obligasi\", \"obligasi\", \"obligasi\", \"okt\", \"orang\", \"orang\", \"orang\", \"pangan,\", \"pasar\", \"pasar\", \"pasar\", \"pejuang\", \"pelaku\", \"pelaku\", \"pemasukan\", \"pendanaan\", \"pengaruh\", \"pengaruh\", \"pengumuman\", \"penurunan\", \"perbedaan\", \"perekonomian\", \"perekonomian\", \"perekonomian\", \"pergerakan\", \"persen\", \"pertemuan\", \"prabowo?\", \"ramal\", \"rate\", \"rate\", \"rekomendasi\", \"repo\", \"reverse\", \"rilis\", \"rupiah\", \"rupiah\", \"rupiah\", \"saham\", \"saham\", \"sampe\", \"sampe\", \"selepas\", \"sentimen\", \"sentral\", \"sentral\", \"sentral\", \"sinyal\", \"stabilisasi\", \"subsidi\", \"suku\", \"suku\", \"suku\", \"sulaiman\", \"tdk\", \"tembus\", \"terakhir,\", \"tingkat\", \"tingkat\", \"tingkat\", \"treasury\", \"tukar\", \"turun\", \"turun\", \"turun,\", \"turun,\", \"untung\", \"utang\", \"utang\", \"utang\"]}, \"R\": 30, \"lambda.step\": 0.01, \"plot.opts\": {\"xlab\": \"PC1\", \"ylab\": \"PC2\"}, \"topic.order\": [3, 1, 2]};\n",
              "\n",
              "function LDAvis_load_lib(url, callback){\n",
              "  var s = document.createElement('script');\n",
              "  s.src = url;\n",
              "  s.async = true;\n",
              "  s.onreadystatechange = s.onload = callback;\n",
              "  s.onerror = function(){console.warn(\"failed to load library \" + url);};\n",
              "  document.getElementsByTagName(\"head\")[0].appendChild(s);\n",
              "}\n",
              "\n",
              "if(typeof(LDAvis) !== \"undefined\"){\n",
              "   // already loaded: just create the visualization\n",
              "   !function(LDAvis){\n",
              "       new LDAvis(\"#\" + \"ldavis_el169138518414832720157830428\", ldavis_el169138518414832720157830428_data);\n",
              "   }(LDAvis);\n",
              "}else if(typeof define === \"function\" && define.amd){\n",
              "   // require.js is available: use it to load d3/LDAvis\n",
              "   require.config({paths: {d3: \"https://d3js.org/d3.v5\"}});\n",
              "   require([\"d3\"], function(d3){\n",
              "      window.d3 = d3;\n",
              "      LDAvis_load_lib(\"https://cdn.jsdelivr.net/gh/bmabey/pyLDAvis@3.4.0/pyLDAvis/js/ldavis.v3.0.0.js\", function(){\n",
              "        new LDAvis(\"#\" + \"ldavis_el169138518414832720157830428\", ldavis_el169138518414832720157830428_data);\n",
              "      });\n",
              "    });\n",
              "}else{\n",
              "    // require.js not available: dynamically load d3 & LDAvis\n",
              "    LDAvis_load_lib(\"https://d3js.org/d3.v5.js\", function(){\n",
              "         LDAvis_load_lib(\"https://cdn.jsdelivr.net/gh/bmabey/pyLDAvis@3.4.0/pyLDAvis/js/ldavis.v3.0.0.js\", function(){\n",
              "                 new LDAvis(\"#\" + \"ldavis_el169138518414832720157830428\", ldavis_el169138518414832720157830428_data);\n",
              "            })\n",
              "         });\n",
              "}\n",
              "</script>"
            ]
          },
          "metadata": {},
          "execution_count": 66
        }
      ],
      "source": [
        "# Enable Notebook\n",
        "pyLDAvis.enable_notebook()\n",
        "\n",
        "# Visualize\n",
        "pyLDAvis.gensim_models.prepare(lda_model, corpus, dictionary)"
      ]
    },
    {
      "cell_type": "code",
      "source": [
        "# Generating the best topics\n",
        "top_topics = lda_model.print_topics(num_words=10)  # Displaying the top 10 keywords for each topics\n",
        "\n",
        "# Create DataFrame\n",
        "df_topics = pd.DataFrame(top_topics, columns=['Topic', 'Keywords'])\n",
        "\n",
        "# Set topic as index\n",
        "df_topics.set_index('Topic', inplace=True)\n",
        "\n",
        "# Show df_topics\n",
        "df_topics"
      ],
      "metadata": {
        "colab": {
          "base_uri": "https://localhost:8080/",
          "height": 295
        },
        "id": "E7m2XR0g7EJf",
        "outputId": "e83603ad-c486-49a8-cc0d-5ad61924dd33"
      },
      "execution_count": 72,
      "outputs": [
        {
          "output_type": "stream",
          "name": "stderr",
          "text": [
            "/usr/local/lib/python3.10/dist-packages/ipykernel/ipkernel.py:283: DeprecationWarning: `should_run_async` will not call `transform_cell` automatically in the future. Please pass the result to `transformed_cell` argument and any exception that happen during thetransform in `preprocessing_exc_tuple` in IPython 7.17 and above.\n",
            "  and should_run_async(code)\n"
          ]
        },
        {
          "output_type": "execute_result",
          "data": {
            "text/plain": [
              "                                                Keywords\n",
              "Topic                                                   \n",
              "0      0.034*\"bunga\" + 0.034*\"suku\" + 0.017*\"bi\" + 0....\n",
              "1      0.039*\"suku\" + 0.038*\"bunga\" + 0.016*\"bi\" + 0....\n",
              "2      0.075*\"bunga\" + 0.074*\"suku\" + 0.030*\"bi\" + 0...."
            ],
            "text/html": [
              "\n",
              "  <div id=\"df-5d1ac985-4114-4ad9-9847-501e070263e4\" class=\"colab-df-container\">\n",
              "    <div>\n",
              "<style scoped>\n",
              "    .dataframe tbody tr th:only-of-type {\n",
              "        vertical-align: middle;\n",
              "    }\n",
              "\n",
              "    .dataframe tbody tr th {\n",
              "        vertical-align: top;\n",
              "    }\n",
              "\n",
              "    .dataframe thead th {\n",
              "        text-align: right;\n",
              "    }\n",
              "</style>\n",
              "<table border=\"1\" class=\"dataframe\">\n",
              "  <thead>\n",
              "    <tr style=\"text-align: right;\">\n",
              "      <th></th>\n",
              "      <th>Keywords</th>\n",
              "    </tr>\n",
              "    <tr>\n",
              "      <th>Topic</th>\n",
              "      <th></th>\n",
              "    </tr>\n",
              "  </thead>\n",
              "  <tbody>\n",
              "    <tr>\n",
              "      <th>0</th>\n",
              "      <td>0.034*\"bunga\" + 0.034*\"suku\" + 0.017*\"bi\" + 0....</td>\n",
              "    </tr>\n",
              "    <tr>\n",
              "      <th>1</th>\n",
              "      <td>0.039*\"suku\" + 0.038*\"bunga\" + 0.016*\"bi\" + 0....</td>\n",
              "    </tr>\n",
              "    <tr>\n",
              "      <th>2</th>\n",
              "      <td>0.075*\"bunga\" + 0.074*\"suku\" + 0.030*\"bi\" + 0....</td>\n",
              "    </tr>\n",
              "  </tbody>\n",
              "</table>\n",
              "</div>\n",
              "    <div class=\"colab-df-buttons\">\n",
              "\n",
              "  <div class=\"colab-df-container\">\n",
              "    <button class=\"colab-df-convert\" onclick=\"convertToInteractive('df-5d1ac985-4114-4ad9-9847-501e070263e4')\"\n",
              "            title=\"Convert this dataframe to an interactive table.\"\n",
              "            style=\"display:none;\">\n",
              "\n",
              "  <svg xmlns=\"http://www.w3.org/2000/svg\" height=\"24px\" viewBox=\"0 -960 960 960\">\n",
              "    <path d=\"M120-120v-720h720v720H120Zm60-500h600v-160H180v160Zm220 220h160v-160H400v160Zm0 220h160v-160H400v160ZM180-400h160v-160H180v160Zm440 0h160v-160H620v160ZM180-180h160v-160H180v160Zm440 0h160v-160H620v160Z\"/>\n",
              "  </svg>\n",
              "    </button>\n",
              "\n",
              "  <style>\n",
              "    .colab-df-container {\n",
              "      display:flex;\n",
              "      gap: 12px;\n",
              "    }\n",
              "\n",
              "    .colab-df-convert {\n",
              "      background-color: #E8F0FE;\n",
              "      border: none;\n",
              "      border-radius: 50%;\n",
              "      cursor: pointer;\n",
              "      display: none;\n",
              "      fill: #1967D2;\n",
              "      height: 32px;\n",
              "      padding: 0 0 0 0;\n",
              "      width: 32px;\n",
              "    }\n",
              "\n",
              "    .colab-df-convert:hover {\n",
              "      background-color: #E2EBFA;\n",
              "      box-shadow: 0px 1px 2px rgba(60, 64, 67, 0.3), 0px 1px 3px 1px rgba(60, 64, 67, 0.15);\n",
              "      fill: #174EA6;\n",
              "    }\n",
              "\n",
              "    .colab-df-buttons div {\n",
              "      margin-bottom: 4px;\n",
              "    }\n",
              "\n",
              "    [theme=dark] .colab-df-convert {\n",
              "      background-color: #3B4455;\n",
              "      fill: #D2E3FC;\n",
              "    }\n",
              "\n",
              "    [theme=dark] .colab-df-convert:hover {\n",
              "      background-color: #434B5C;\n",
              "      box-shadow: 0px 1px 3px 1px rgba(0, 0, 0, 0.15);\n",
              "      filter: drop-shadow(0px 1px 2px rgba(0, 0, 0, 0.3));\n",
              "      fill: #FFFFFF;\n",
              "    }\n",
              "  </style>\n",
              "\n",
              "    <script>\n",
              "      const buttonEl =\n",
              "        document.querySelector('#df-5d1ac985-4114-4ad9-9847-501e070263e4 button.colab-df-convert');\n",
              "      buttonEl.style.display =\n",
              "        google.colab.kernel.accessAllowed ? 'block' : 'none';\n",
              "\n",
              "      async function convertToInteractive(key) {\n",
              "        const element = document.querySelector('#df-5d1ac985-4114-4ad9-9847-501e070263e4');\n",
              "        const dataTable =\n",
              "          await google.colab.kernel.invokeFunction('convertToInteractive',\n",
              "                                                    [key], {});\n",
              "        if (!dataTable) return;\n",
              "\n",
              "        const docLinkHtml = 'Like what you see? Visit the ' +\n",
              "          '<a target=\"_blank\" href=https://colab.research.google.com/notebooks/data_table.ipynb>data table notebook</a>'\n",
              "          + ' to learn more about interactive tables.';\n",
              "        element.innerHTML = '';\n",
              "        dataTable['output_type'] = 'display_data';\n",
              "        await google.colab.output.renderOutput(dataTable, element);\n",
              "        const docLink = document.createElement('div');\n",
              "        docLink.innerHTML = docLinkHtml;\n",
              "        element.appendChild(docLink);\n",
              "      }\n",
              "    </script>\n",
              "  </div>\n",
              "\n",
              "\n",
              "<div id=\"df-edf0ee2b-464a-454d-a7c7-f2ffc434ea7d\">\n",
              "  <button class=\"colab-df-quickchart\" onclick=\"quickchart('df-edf0ee2b-464a-454d-a7c7-f2ffc434ea7d')\"\n",
              "            title=\"Suggest charts.\"\n",
              "            style=\"display:none;\">\n",
              "\n",
              "<svg xmlns=\"http://www.w3.org/2000/svg\" height=\"24px\"viewBox=\"0 0 24 24\"\n",
              "     width=\"24px\">\n",
              "    <g>\n",
              "        <path d=\"M19 3H5c-1.1 0-2 .9-2 2v14c0 1.1.9 2 2 2h14c1.1 0 2-.9 2-2V5c0-1.1-.9-2-2-2zM9 17H7v-7h2v7zm4 0h-2V7h2v10zm4 0h-2v-4h2v4z\"/>\n",
              "    </g>\n",
              "</svg>\n",
              "  </button>\n",
              "\n",
              "<style>\n",
              "  .colab-df-quickchart {\n",
              "      --bg-color: #E8F0FE;\n",
              "      --fill-color: #1967D2;\n",
              "      --hover-bg-color: #E2EBFA;\n",
              "      --hover-fill-color: #174EA6;\n",
              "      --disabled-fill-color: #AAA;\n",
              "      --disabled-bg-color: #DDD;\n",
              "  }\n",
              "\n",
              "  [theme=dark] .colab-df-quickchart {\n",
              "      --bg-color: #3B4455;\n",
              "      --fill-color: #D2E3FC;\n",
              "      --hover-bg-color: #434B5C;\n",
              "      --hover-fill-color: #FFFFFF;\n",
              "      --disabled-bg-color: #3B4455;\n",
              "      --disabled-fill-color: #666;\n",
              "  }\n",
              "\n",
              "  .colab-df-quickchart {\n",
              "    background-color: var(--bg-color);\n",
              "    border: none;\n",
              "    border-radius: 50%;\n",
              "    cursor: pointer;\n",
              "    display: none;\n",
              "    fill: var(--fill-color);\n",
              "    height: 32px;\n",
              "    padding: 0;\n",
              "    width: 32px;\n",
              "  }\n",
              "\n",
              "  .colab-df-quickchart:hover {\n",
              "    background-color: var(--hover-bg-color);\n",
              "    box-shadow: 0 1px 2px rgba(60, 64, 67, 0.3), 0 1px 3px 1px rgba(60, 64, 67, 0.15);\n",
              "    fill: var(--button-hover-fill-color);\n",
              "  }\n",
              "\n",
              "  .colab-df-quickchart-complete:disabled,\n",
              "  .colab-df-quickchart-complete:disabled:hover {\n",
              "    background-color: var(--disabled-bg-color);\n",
              "    fill: var(--disabled-fill-color);\n",
              "    box-shadow: none;\n",
              "  }\n",
              "\n",
              "  .colab-df-spinner {\n",
              "    border: 2px solid var(--fill-color);\n",
              "    border-color: transparent;\n",
              "    border-bottom-color: var(--fill-color);\n",
              "    animation:\n",
              "      spin 1s steps(1) infinite;\n",
              "  }\n",
              "\n",
              "  @keyframes spin {\n",
              "    0% {\n",
              "      border-color: transparent;\n",
              "      border-bottom-color: var(--fill-color);\n",
              "      border-left-color: var(--fill-color);\n",
              "    }\n",
              "    20% {\n",
              "      border-color: transparent;\n",
              "      border-left-color: var(--fill-color);\n",
              "      border-top-color: var(--fill-color);\n",
              "    }\n",
              "    30% {\n",
              "      border-color: transparent;\n",
              "      border-left-color: var(--fill-color);\n",
              "      border-top-color: var(--fill-color);\n",
              "      border-right-color: var(--fill-color);\n",
              "    }\n",
              "    40% {\n",
              "      border-color: transparent;\n",
              "      border-right-color: var(--fill-color);\n",
              "      border-top-color: var(--fill-color);\n",
              "    }\n",
              "    60% {\n",
              "      border-color: transparent;\n",
              "      border-right-color: var(--fill-color);\n",
              "    }\n",
              "    80% {\n",
              "      border-color: transparent;\n",
              "      border-right-color: var(--fill-color);\n",
              "      border-bottom-color: var(--fill-color);\n",
              "    }\n",
              "    90% {\n",
              "      border-color: transparent;\n",
              "      border-bottom-color: var(--fill-color);\n",
              "    }\n",
              "  }\n",
              "</style>\n",
              "\n",
              "  <script>\n",
              "    async function quickchart(key) {\n",
              "      const quickchartButtonEl =\n",
              "        document.querySelector('#' + key + ' button');\n",
              "      quickchartButtonEl.disabled = true;  // To prevent multiple clicks.\n",
              "      quickchartButtonEl.classList.add('colab-df-spinner');\n",
              "      try {\n",
              "        const charts = await google.colab.kernel.invokeFunction(\n",
              "            'suggestCharts', [key], {});\n",
              "      } catch (error) {\n",
              "        console.error('Error during call to suggestCharts:', error);\n",
              "      }\n",
              "      quickchartButtonEl.classList.remove('colab-df-spinner');\n",
              "      quickchartButtonEl.classList.add('colab-df-quickchart-complete');\n",
              "    }\n",
              "    (() => {\n",
              "      let quickchartButtonEl =\n",
              "        document.querySelector('#df-edf0ee2b-464a-454d-a7c7-f2ffc434ea7d button');\n",
              "      quickchartButtonEl.style.display =\n",
              "        google.colab.kernel.accessAllowed ? 'block' : 'none';\n",
              "    })();\n",
              "  </script>\n",
              "</div>\n",
              "    </div>\n",
              "  </div>\n"
            ]
          },
          "metadata": {},
          "execution_count": 72
        },
        {
          "output_type": "stream",
          "name": "stderr",
          "text": [
            "/usr/local/lib/python3.10/dist-packages/ipykernel/ipkernel.py:283: DeprecationWarning: `should_run_async` will not call `transform_cell` automatically in the future. Please pass the result to `transformed_cell` argument and any exception that happen during thetransform in `preprocessing_exc_tuple` in IPython 7.17 and above.\n",
            "  and should_run_async(code)\n"
          ]
        }
      ]
    },
    {
      "cell_type": "markdown",
      "source": [
        "**Topik 0:**\n",
        "\n",
        "Fokus pada suku bunga, Bank Indonesia, kenaikan suku bunga, nilai tukar, dan saham. Topik ini mungkin berkaitan dengan kebijakan suku bunga Bank Indonesia dan dampaknya terhadap pasar saham dan nilai tukar rupiah.\n",
        "\n",
        "**Topik 1:**\n",
        "\n",
        "Juga berfokus pada suku bunga, Bank Indonesia, dan pasar, tetapi juga mencakup kebijakan, Federal Reserve (fed), dan Kredit Pemilikan Rumah (KPR). Topik ini mungkin berkaitan dengan kebijakan suku bunga dan pengaruhnya terhadap pasar keuangan, termasuk KPR.\n",
        "\n",
        "**Topik 2:**\n",
        "\n",
        "Fokus utamanya adalah suku bunga dan Bank Indonesia, dengan kata kunci seperti suku bunga acuan dan persentase. Topik ini mungkin berfokus pada kebijakan suku bunga Bank Indonesia dan pengumuman terkait suku bunga acuan."
      ],
      "metadata": {
        "id": "XFcGYQCx7rjk"
      }
    }
  ]
}